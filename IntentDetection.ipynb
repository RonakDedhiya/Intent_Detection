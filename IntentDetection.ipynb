{
 "cells": [
  {
   "cell_type": "markdown",
   "metadata": {},
   "source": [
    "# Intent Detection"
   ]
  },
  {
   "cell_type": "markdown",
   "metadata": {},
   "source": [
    "### Data Conversion\n",
    "Data Format in the ATIS Dataset is as follows:\n",
    "\n",
    "* Actual Statement : BOS i want to fly from baltimore to dallas round trip EOS \n",
    "* Parsed Statement : O O O O O O B-fromloc.city_name O B-toloc.city_name B-round_trip I-round_trip atis_flight\n",
    "\n",
    "Using only parsed statement results into loss of information about the semantics of the sentence and hence it is not wise to use only parsed statement. However, NER detected for location,places, time etc could be helpful.\n",
    "\n",
    "Hence, I am converting above statement in the above format\n",
    "\n",
    "* message : i want to fly from B-fromloc.city_name to B-toloc.city_name B-round_trip I-round_trip\n",
    "* label : atis_flight"
   ]
  },
  {
   "cell_type": "code",
   "execution_count": 1,
   "metadata": {},
   "outputs": [],
   "source": [
    "import pandas as pd\n",
    "import matplotlib.pyplot as plt\n",
    "%matplotlib inline\n",
    "\n",
    "# Data conversion\n",
    "def getData(filename):\n",
    "    raw_data = open(filename,\"r\")\n",
    "\n",
    "    messages = []\n",
    "    labels = []\n",
    "    for line in raw_data.readlines(): \n",
    "        sentence = line.split(\"\\t\")\n",
    "\n",
    "        actual_words = sentence[0].split(\" \")\n",
    "        encoded_words = sentence[1].split(\" \")\n",
    "\n",
    "        for index, word in enumerate(encoded_words):\n",
    "            if word == \"O\":\n",
    "                encoded_words[index] = actual_words[index]\n",
    "\n",
    "        msg = \" \".join(encoded_words[1:-1])\n",
    "        label = encoded_words[-1][0:-1]\n",
    "\n",
    "        messages.append(msg)\n",
    "        labels.append(label)\n",
    "\n",
    "    data = pd.DataFrame(data={'message':messages,'label':labels})\n",
    "    return data"
   ]
  },
  {
   "cell_type": "code",
   "execution_count": 2,
   "metadata": {},
   "outputs": [],
   "source": [
    "train = getData(\"atis-2.train.w-intent.iob (3).txt\")\n",
    "test = getData(\"atis.test.w-intent.iob (2).txt\")"
   ]
  },
  {
   "cell_type": "markdown",
   "metadata": {},
   "source": [
    "### Data Understanding\n",
    "* From below, We can see dataset is highly imbalanced, atis_flight occupies the major portion of the dataset.\n",
    "* There are almost 21 classes and comparitively less data for each class. and it looks difficult to train a classifier that is void of bias to few classes\n"
   ]
  },
  {
   "cell_type": "code",
   "execution_count": 3,
   "metadata": {},
   "outputs": [
    {
     "data": {
      "text/plain": [
       "label\n",
       "atis_abbreviation                             56\n",
       "atis_aircraft                                 67\n",
       "atis_aircraft#atis_flight#atis_flight_no       1\n",
       "atis_airfare                                 321\n",
       "atis_airline                                 109\n",
       "atis_airline#atis_flight_no                    2\n",
       "atis_airport                                  16\n",
       "atis_capacity                                 13\n",
       "atis_cheapest                                  1\n",
       "atis_city                                     17\n",
       "atis_distance                                 16\n",
       "atis_flight                                 2567\n",
       "atis_flight#atis_airfare                      11\n",
       "atis_flight_no                                12\n",
       "atis_flight_time                              40\n",
       "atis_ground_fare                              14\n",
       "atis_ground_service                          177\n",
       "atis_ground_service#atis_ground_fare           1\n",
       "atis_meal                                      6\n",
       "atis_quantity                                 37\n",
       "atis_restriction                               3\n",
       "Name: message, dtype: int64"
      ]
     },
     "execution_count": 3,
     "metadata": {},
     "output_type": "execute_result"
    }
   ],
   "source": [
    "train.groupby('label')['message'].nunique()"
   ]
  },
  {
   "cell_type": "markdown",
   "metadata": {},
   "source": [
    "### Preparing training data\n",
    "* First, We are cleaning the text information. I have observed that usually stop words are removed before processing the text. However, in one of the post in fast.ai and with the experimentation below, stop words helps to generalize model better. For generalization, some redundant information is must.\n",
    "* Second, We are extracting features using TfidfVectorizer ( a numerical statistic that describe how important a word is to corpus). We are using n_gram to include combination of words.\n",
    "* This approach is based only on the words used in the context and not on the semantics of the sentence."
   ]
  },
  {
   "cell_type": "code",
   "execution_count": 6,
   "metadata": {},
   "outputs": [
    {
     "name": "stdout",
     "output_type": "stream",
     "text": [
      "[nltk_data] Downloading package stopwords to\n",
      "[nltk_data]     /home/myworld/nltk_data...\n",
      "[nltk_data]   Package stopwords is already up-to-date!\n"
     ]
    }
   ],
   "source": [
    "import re\n",
    "import nltk\n",
    "from nltk.corpus import stopwords\n",
    "from nltk.stem import PorterStemmer\n",
    "nltk.download(\"stopwords\")\n",
    "\n",
    "## Clean Data\n",
    "stops = set(stopwords.words(\"english\"))\n",
    "def cleanData(text, lowercase = False, remove_stops = False, stemming = False):\n",
    "    txt = str(text)\n",
    "    #txt = re.sub(r'[^A-Za-z\\s]',r'',txt)\n",
    "    txt = re.sub(r'\\n',r' ',txt)\n",
    "    \n",
    "    if lowercase:\n",
    "        txt = \" \".join([w.lower() for w in txt.split()])\n",
    "        \n",
    "    if remove_stops:\n",
    "        txt = \" \".join([w for w in txt.split() if w not in stops])\n",
    "    \n",
    "    if stemming:\n",
    "        st = PorterStemmer()\n",
    "        txt = \" \".join([st.stem(w) for w in txt.split()])\n",
    "\n",
    "    return txt"
   ]
  },
  {
   "cell_type": "code",
   "execution_count": 8,
   "metadata": {},
   "outputs": [],
   "source": [
    "from sklearn.feature_extraction.text import CountVectorizer, TfidfVectorizer,HashingVectorizer\n",
    "\n",
    "## Clean data \n",
    "trainClean = train['message'].map(lambda x: cleanData(x, lowercase=True,remove_stops=False, stemming=True))\n",
    "testClean = test['message'].map(lambda x: cleanData(x, lowercase=True,remove_stops=False, stemming=True))\n",
    "\n",
    "# Feature extraction\n",
    "vectorizer = TfidfVectorizer(analyzer='word', min_df=0.0, max_df=1.0,max_features=1024, ngram_range=(1,2))\n",
    "vec = vectorizer.fit(trainClean)\n",
    "\n",
    "X_train = vec.transform(trainClean)\n",
    "X_test = vec.transform(testClean)"
   ]
  },
  {
   "cell_type": "code",
   "execution_count": 9,
   "metadata": {},
   "outputs": [],
   "source": [
    "# Optional - to save tfidf matrix to csv\n",
    "result =  pd.DataFrame(X_train.todense(), columns = vec.get_feature_names())\n",
    "result.to_csv(\"tfidf.csv\",index = False)"
   ]
  },
  {
   "cell_type": "markdown",
   "metadata": {},
   "source": [
    "### Training model\n",
    "\n",
    "* Though we know the limitation of our data, let see how classifier perform on this dataset.\n",
    "* We would roughly test some of the classifier like KNeighborsClassifier,GaussianNB and SVM."
   ]
  },
  {
   "cell_type": "code",
   "execution_count": 10,
   "metadata": {},
   "outputs": [
    {
     "name": "stdout",
     "output_type": "stream",
     "text": [
      "Multi-class accuracy: 0.9025755879059351 \n",
      "\n",
      "                             precision    recall  f1-score   support\n",
      "\n",
      "          atis_abbreviation       1.00      1.00      1.00        33\n",
      "              atis_aircraft       0.86      0.67      0.75         9\n",
      "               atis_airfare       0.89      0.69      0.78        48\n",
      "   atis_airfare#atis_flight       0.00      0.00      0.00         1\n",
      "               atis_airline       1.00      0.89      0.94        38\n",
      "               atis_airport       1.00      0.44      0.62        18\n",
      "              atis_capacity       0.95      1.00      0.98        21\n",
      "                  atis_city       0.20      0.17      0.18         6\n",
      "              atis_day_name       0.00      0.00      0.00         2\n",
      "              atis_distance       0.70      0.70      0.70        10\n",
      "                atis_flight       0.91      0.98      0.95       632\n",
      "   atis_flight#atis_airfare       0.00      0.00      0.00        12\n",
      "   atis_flight#atis_airline       0.00      0.00      0.00         1\n",
      "             atis_flight_no       1.00      0.62      0.77         8\n",
      "atis_flight_no#atis_airline       0.00      0.00      0.00         1\n",
      "           atis_flight_time       1.00      1.00      1.00         1\n",
      "           atis_ground_fare       1.00      0.14      0.25         7\n",
      "        atis_ground_service       0.80      0.97      0.88        36\n",
      "                  atis_meal       0.00      0.00      0.00         6\n",
      "              atis_quantity       0.29      0.67      0.40         3\n",
      "\n",
      "                avg / total       0.88      0.90      0.89       893\n",
      "\n"
     ]
    },
    {
     "name": "stderr",
     "output_type": "stream",
     "text": [
      "/home/myworld/anaconda3/lib/python3.6/site-packages/sklearn/metrics/classification.py:1135: UndefinedMetricWarning: Precision and F-score are ill-defined and being set to 0.0 in labels with no predicted samples.\n",
      "  'precision', 'predicted', average, warn_for)\n"
     ]
    }
   ],
   "source": [
    "from sklearn.neighbors import KNeighborsClassifier\n",
    "from sklearn.metrics import accuracy_score\n",
    "from sklearn.metrics import classification_report\n",
    "\n",
    "neigh = KNeighborsClassifier(n_neighbors=3, weights=\"distance\", p=2)\n",
    "neigh_train = neigh.fit(X_train, train[\"label\"]) \n",
    "y_pred = neigh_train.predict(X_test)\n",
    "\n",
    "print(\"Multi-class accuracy:\",accuracy_score(test[\"label\"], y_pred),\"\\n\")\n",
    "print(classification_report(test[\"label\"], y_pred))"
   ]
  },
  {
   "cell_type": "code",
   "execution_count": 11,
   "metadata": {},
   "outputs": [
    {
     "name": "stdout",
     "output_type": "stream",
     "text": [
      "Multi-class accuracy: 0.6606942889137738 \n",
      "\n",
      "                             precision    recall  f1-score   support\n",
      "\n",
      "          atis_abbreviation       0.97      0.91      0.94        33\n",
      "              atis_aircraft       0.30      0.33      0.32         9\n",
      "               atis_airfare       0.32      0.67      0.43        48\n",
      "   atis_airfare#atis_flight       0.00      0.00      0.00         1\n",
      "               atis_airline       0.65      0.82      0.72        38\n",
      "atis_airline#atis_flight_no       0.00      0.00      0.00         0\n",
      "               atis_airport       0.78      0.39      0.52        18\n",
      "              atis_capacity       0.85      0.81      0.83        21\n",
      "                  atis_city       0.00      0.00      0.00         6\n",
      "              atis_day_name       0.00      0.00      0.00         2\n",
      "              atis_distance       1.00      0.80      0.89        10\n",
      "                atis_flight       0.89      0.66      0.76       632\n",
      "   atis_flight#atis_airfare       0.00      0.00      0.00        12\n",
      "   atis_flight#atis_airline       0.00      0.00      0.00         1\n",
      "             atis_flight_no       0.04      0.25      0.07         8\n",
      "atis_flight_no#atis_airline       0.00      0.00      0.00         1\n",
      "           atis_flight_time       0.03      1.00      0.05         1\n",
      "           atis_ground_fare       1.00      0.71      0.83         7\n",
      "        atis_ground_service       0.72      1.00      0.84        36\n",
      "                  atis_meal       0.00      0.00      0.00         6\n",
      "              atis_quantity       0.00      0.00      0.00         3\n",
      "\n",
      "                avg / total       0.79      0.66      0.71       893\n",
      "\n"
     ]
    },
    {
     "name": "stderr",
     "output_type": "stream",
     "text": [
      "/home/myworld/anaconda3/lib/python3.6/site-packages/sklearn/metrics/classification.py:1135: UndefinedMetricWarning: Precision and F-score are ill-defined and being set to 0.0 in labels with no predicted samples.\n",
      "  'precision', 'predicted', average, warn_for)\n",
      "/home/myworld/anaconda3/lib/python3.6/site-packages/sklearn/metrics/classification.py:1137: UndefinedMetricWarning: Recall and F-score are ill-defined and being set to 0.0 in labels with no true samples.\n",
      "  'recall', 'true', average, warn_for)\n"
     ]
    }
   ],
   "source": [
    "from sklearn.naive_bayes import GaussianNB\n",
    "clf = GaussianNB()\n",
    "clf.fit(X_train.toarray(),train[\"label\"])\n",
    "y_pred = clf.predict(X_test.toarray())\n",
    "\n",
    "print(\"Multi-class accuracy:\",accuracy_score(test[\"label\"], y_pred),\"\\n\")\n",
    "print(classification_report(test[\"label\"], y_pred))"
   ]
  },
  {
   "cell_type": "code",
   "execution_count": 12,
   "metadata": {},
   "outputs": [
    {
     "name": "stdout",
     "output_type": "stream",
     "text": [
      "Multi-class accuracy: 0.9574468085106383 \n",
      "\n",
      "                             precision    recall  f1-score   support\n",
      "\n",
      "          atis_abbreviation       1.00      1.00      1.00        33\n",
      "              atis_aircraft       0.73      0.89      0.80         9\n",
      "               atis_airfare       0.89      1.00      0.94        48\n",
      "   atis_airfare#atis_flight       0.00      0.00      0.00         1\n",
      "               atis_airline       1.00      0.97      0.99        38\n",
      "               atis_airport       1.00      0.78      0.88        18\n",
      "              atis_capacity       0.95      0.95      0.95        21\n",
      "                  atis_city       1.00      0.50      0.67         6\n",
      "              atis_day_name       0.00      0.00      0.00         2\n",
      "              atis_distance       1.00      0.90      0.95        10\n",
      "                atis_flight       0.97      0.99      0.98       632\n",
      "   atis_flight#atis_airfare       0.80      0.33      0.47        12\n",
      "   atis_flight#atis_airline       0.00      0.00      0.00         1\n",
      "             atis_flight_no       1.00      1.00      1.00         8\n",
      "atis_flight_no#atis_airline       0.00      0.00      0.00         1\n",
      "           atis_flight_time       1.00      1.00      1.00         1\n",
      "           atis_ground_fare       1.00      0.71      0.83         7\n",
      "        atis_ground_service       0.97      1.00      0.99        36\n",
      "                  atis_meal       1.00      0.50      0.67         6\n",
      "              atis_quantity       0.29      0.67      0.40         3\n",
      "\n",
      "                avg / total       0.96      0.96      0.95       893\n",
      "\n"
     ]
    },
    {
     "name": "stderr",
     "output_type": "stream",
     "text": [
      "/home/myworld/anaconda3/lib/python3.6/site-packages/sklearn/metrics/classification.py:1135: UndefinedMetricWarning: Precision and F-score are ill-defined and being set to 0.0 in labels with no predicted samples.\n",
      "  'precision', 'predicted', average, warn_for)\n"
     ]
    }
   ],
   "source": [
    "from sklearn.svm import SVC\n",
    "clf = SVC(kernel=\"linear\", C=10)\n",
    "\n",
    "clf.fit(X_train.toarray(),train[\"label\"])\n",
    "y_pred = clf.predict(X_test.toarray())\n",
    "\n",
    "print(\"Multi-class accuracy:\",accuracy_score(test[\"label\"], y_pred),\"\\n\")\n",
    "print(classification_report(test[\"label\"], y_pred))"
   ]
  },
  {
   "cell_type": "markdown",
   "metadata": {},
   "source": [
    "### Cross-validation\n",
    "* As we saw, Support vector machine works best for classification based approach. Let check with k-fold cross validation to avoid any overfitting.\n"
   ]
  },
  {
   "cell_type": "code",
   "execution_count": 13,
   "metadata": {},
   "outputs": [
    {
     "name": "stderr",
     "output_type": "stream",
     "text": [
      "/home/myworld/anaconda3/lib/python3.6/site-packages/sklearn/model_selection/_split.py:605: Warning: The least populated class in y has only 1 members, which is too few. The minimum number of members in any class cannot be less than n_splits=4.\n",
      "  % (min_groups, self.n_splits)), Warning)\n"
     ]
    },
    {
     "name": "stdout",
     "output_type": "stream",
     "text": [
      "Multi-class accuracy: 0.9708222811671088 \n",
      "\n",
      "Multi-class accuracy: 0.9741302408563782 \n",
      "\n",
      "Multi-class accuracy: 0.9802690582959641 \n",
      "\n",
      "Multi-class accuracy: 0.9846984698469847 \n",
      "\n"
     ]
    }
   ],
   "source": [
    "from sklearn.model_selection import StratifiedKFold\n",
    "skf = StratifiedKFold(n_splits=4)\n",
    "\n",
    "clf = SVC(kernel=\"linear\", C=10)\n",
    "\n",
    "for train_index, test_index in skf.split(X_train, train[\"label\"]):\n",
    "    X_train_k, X_test_k = X_train[train_index], X_train[test_index]\n",
    "    y_train_k, y_test_k = train[\"label\"][train_index], train[\"label\"][test_index]\n",
    "       \n",
    "    clf.fit(X_train_k,y_train_k)\n",
    "    y_pred = clf.predict(X_test_k)\n",
    "    print(\"Multi-class accuracy:\",accuracy_score(y_test_k, y_pred),\"\\n\")\n"
   ]
  },
  {
   "cell_type": "markdown",
   "metadata": {},
   "source": [
    "### Analysis\n",
    "* The results from k-fold are impressive and there are no large bias and variance in the trained model.\n",
    "* If we analyse the failure cases, the f1-score are relatively small for class atis_flight#atis_airfare and atis_quantity."
   ]
  },
  {
   "cell_type": "markdown",
   "metadata": {},
   "source": [
    "#### What more to do ?\n",
    "* Using glove vector instead of tf-idf vectorizer.\n",
    "* To try out semantics based method for intent detection.\n",
    "* To do more literature survey for finding more appropriate approach."
   ]
  }
 ],
 "metadata": {
  "kernelspec": {
   "display_name": "Python 3",
   "language": "python",
   "name": "python3"
  },
  "language_info": {
   "codemirror_mode": {
    "name": "ipython",
    "version": 3
   },
   "file_extension": ".py",
   "mimetype": "text/x-python",
   "name": "python",
   "nbconvert_exporter": "python",
   "pygments_lexer": "ipython3",
   "version": "3.6.5"
  }
 },
 "nbformat": 4,
 "nbformat_minor": 2
}
